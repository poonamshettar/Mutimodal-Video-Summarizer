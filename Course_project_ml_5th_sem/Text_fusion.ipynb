{
 "cells": [
  {
   "cell_type": "code",
   "execution_count": 1,
   "metadata": {},
   "outputs": [],
   "source": [
    "# import import_ipynb\n",
    "from sklearn.feature_extraction.text import TfidfVectorizer\n",
    "from sklearn.metrics.pairwise import cosine_similarity\n",
    "from sklearn.feature_extraction.text import CountVectorizer\n",
    "import numpy as np\n",
    "# import Audio_transcript\n",
    "# import final_ocr\n",
    "#index issue########################################################################------to be solved ok for now"
   ]
  },
  {
   "cell_type": "code",
   "execution_count": 2,
   "metadata": {},
   "outputs": [
    {
     "data": {
      "text/plain": [
       "'the true friend once there were two friends squirrel and puppy they used to live play together was very sporty always won game music feel bad thought that it of no use one day started raining heavily in high spirits he doing antics but suddenly lost his balance fell rain water called for help came rescue climbed on its back reached safe place thanked saving life moral story is have confidence yourself everyone unique own way thanks watching you short wea go por gow testes teenie her os we ad ao anh wan'"
      ]
     },
     "execution_count": 2,
     "metadata": {},
     "output_type": "execute_result"
    }
   ],
   "source": [
    "text=['the true friend once there were two friends a squirrel and a puppy they used to live and play together the squirrel was very sporty and always won the game [Music] the puppy used to feel bad and thought that it was of no use one day it started raining heavily the squirrel was in high spirits he started doing antics but suddenly lost his balance and fell in the rain water he called his friend the puppy for help the puppy came to his rescue [Music] the squirrel climbed on its back and reached a safe place he thanked his friend for saving his life moral of the story is always have confidence in yourself everyone is unique in his own way thanks for watching [Music] you',\n",
    "'A Short Story THE TRUE FRIEND They used to live  play together The squirrel was very sporty  always won the game Wea He started antics but suddenly Lost his balance  fell in the rain water He called his friend the puppy for help The puppy came to his rescue gO POR The squirrel climbed on its back  reached a safe place He thanked his friend for his life Gow MORAL Always have confidence in yourself Everyone is unique in his own way Testes  Teenie her OS We ad ao anh  wan']\n",
    "vectorizer=TfidfVectorizer(norm=None)\n",
    "x=vectorizer.fit_transform(text)\n",
    "#print(x)\n",
    "#print(x.toarray())\n",
    "fused=vectorizer.vocabulary_\n",
    "final_=fused.keys()\n",
    "x=list(final_)\n",
    "final=\" \".join(x)\n",
    "final"
   ]
  },
  {
   "cell_type": "code",
   "execution_count": 3,
   "metadata": {},
   "outputs": [
    {
     "name": "stdout",
     "output_type": "stream",
     "text": [
      "  (0, 20)\t2.421385680931161\n",
      "  (0, 78)\t3.268683541318364\n",
      "  (0, 71)\t1.7282385003712155\n",
      "  (1, 51)\t2.575536360758419\n",
      "  (1, 2)\t2.421385680931161\n",
      "  (1, 62)\t2.421385680931161\n",
      "  (1, 21)\t3.6741486494265287\n",
      "  (1, 79)\t3.6741486494265287\n",
      "  (1, 91)\t3.6741486494265287\n",
      "  (1, 73)\t3.6741486494265287\n",
      "  (1, 44)\t3.6741486494265287\n",
      "  (2, 77)\t3.268683541318364\n",
      "  (2, 49)\t3.268683541318364\n",
      "  (2, 38)\t3.268683541318364\n",
      "  (2, 76)\t2.421385680931161\n",
      "  (2, 82)\t2.9810014688665833\n",
      "  (2, 74)\t3.268683541318364\n",
      "  (2, 2)\t2.421385680931161\n",
      "  (3, 22)\t3.268683541318364\n",
      "  (3, 92)\t3.268683541318364\n",
      "  (3, 1)\t2.7578579175523736\n",
      "  (3, 61)\t3.268683541318364\n",
      "  (3, 83)\t3.268683541318364\n",
      "  (3, 85)\t2.7578579175523736\n",
      "  (3, 2)\t2.421385680931161\n",
      "  :\t:\n",
      "  (21, 26)\t2.421385680931161\n",
      "  (21, 62)\t2.421385680931161\n",
      "  (21, 20)\t2.421385680931161\n",
      "  (21, 71)\t1.7282385003712155\n",
      "  (22, 88)\t3.268683541318364\n",
      "  (22, 47)\t3.268683541318364\n",
      "  (22, 80)\t3.268683541318364\n",
      "  (22, 16)\t3.268683541318364\n",
      "  (22, 94)\t3.268683541318364\n",
      "  (22, 13)\t3.268683541318364\n",
      "  (22, 25)\t3.268683541318364\n",
      "  (22, 34)\t3.268683541318364\n",
      "  (22, 40)\t3.268683541318364\n",
      "  (22, 31)\t2.1700712526502546\n",
      "  (22, 32)\t5.515715835104747\n",
      "  (22, 1)\t2.7578579175523736\n",
      "  (23, 67)\t3.6741486494265287\n",
      "  (25, 89)\t3.6741486494265287\n",
      "  (25, 46)\t3.6741486494265287\n",
      "  (25, 29)\t3.6741486494265287\n",
      "  (25, 66)\t3.6741486494265287\n",
      "  (26, 0)\t3.6741486494265287\n",
      "  (27, 84)\t3.6741486494265287\n",
      "  (27, 3)\t3.6741486494265287\n",
      "  (27, 5)\t3.6741486494265287\n",
      "[[0.         0.         0.         ... 0.         0.         0.        ]\n",
      " [0.         0.         2.42138568 ... 0.         0.         0.        ]\n",
      " [0.         0.         2.42138568 ... 0.         0.         0.        ]\n",
      " ...\n",
      " [0.         0.         0.         ... 0.         0.         0.        ]\n",
      " [3.67414865 0.         0.         ... 0.         0.         0.        ]\n",
      " [0.         0.         0.         ... 0.         0.         0.        ]]\n",
      "the true friend once there were two friends squirrel and puppy they used to live play together was very sporty always won game feel bad thought that it of no use one day started raining heavily in high spirits he doing antics but suddenly lost his balance fell into rainwater called for help came rescue climbed on its back reached safe place thanked saving life moral story is have confidence yourself everyone unique their own way thanks watching you short wea rain water go por gow testes teenie her os we ad ao anh wan\n"
     ]
    }
   ],
   "source": [
    "from sklearn.feature_extraction.text import TfidfVectorizer\n",
    "\n",
    "text = [['the true friend.',\n",
    " 'once there were two friends: a squirrel and a puppy.',\n",
    " 'they used to live and play together.',\n",
    " 'the squirrel was very sporty and always won the game.',\n",
    " '.',\n",
    " 'the puppy used to feel bad and thought that it was of no use.',\n",
    " 'one day it started raining heavily.',\n",
    " 'the squirrel was in high spirits; he started doing antics but suddenly lost his balance and fell into the rainwater.',\n",
    " 'he called his friend, the puppy, for help.',\n",
    " '.',\n",
    " 'the puppy came to his rescue.',\n",
    " 'the squirrel climbed on its back and reached a safe place.',\n",
    " 'he thanked his friend for saving his life.',\n",
    " 'moral of the story is always to have confidence in yourself; everyone is unique in their own way.',\n",
    " 'thanks for watching.',\n",
    " '.',\n",
    " 'you.'],\n",
    " [\n",
    " 'a short story the true friend',\n",
    " 'they used to live  play together the squirrel was very sporty  always won the game',\n",
    " 'wea he started antics but suddenly lost his balance  fell in the rain water',\n",
    " 'he called his friend the puppy for help the puppy came to his rescue go por',\n",
    " 'the squirrel climbed on its back  reached a safe place he thanked his friend for his life gow',\n",
    " 'moral always have confidence in yourself everyone is unique in his own way',\n",
    " 'testes',\n",
    " '',\n",
    " 'teenie her os we',\n",
    " 'ad',\n",
    " 'ao anh  wan']]\n",
    "\n",
    "# Flatten the list of lists\n",
    "flattened_text = [sentence for sublist in text for sentence in sublist]\n",
    "\n",
    "# Create a TfidfVectorizer\n",
    "vectorizer = TfidfVectorizer(norm=None)\n",
    "\n",
    "# Fit and transform the text\n",
    "x = vectorizer.fit_transform(flattened_text)\n",
    "print(x)\n",
    "print(x.toarray())\n",
    "# Get the vocabulary\n",
    "fused = vectorizer.vocabulary_\n",
    "final_ = fused.keys()\n",
    "x_list = list(final_)\n",
    "\n",
    "# Convert the list to a string\n",
    "final = \" \".join(x_list)\n",
    "\n",
    "print(final)\n"
   ]
  },
  {
   "cell_type": "code",
   "execution_count": 4,
   "metadata": {},
   "outputs": [
    {
     "name": "stdout",
     "output_type": "stream",
     "text": [
      "['the true friend.', 'once there were two friends: a squirrel and a puppy.', 'they used to live and play together.', 'the squirrel was very sporty and always won the game.', '.', 'the puppy used to feel bad and thought that it was of no use.', 'one day it started raining heavily.', 'the squirrel was in high spirits; he started doing antics but suddenly lost his balance and fell into the rainwater.', 'he called his friend, the puppy, for help.', '.', 'the puppy came to his rescue.', 'the squirrel climbed on its back and reached a safe place.', 'he thanked his friend for saving his life.', 'moral of the story is always to have confidence in yourself; everyone is unique in their own way.', 'thanks for watching.', '.', 'you.', 'a short story the true friend', 'they used to live  play together the squirrel was very sporty  always won the game', 'wea he started antics but suddenly lost his balance  fell in the rain water', 'he called his friend the puppy for help the puppy came to his rescue go por', 'the squirrel climbed on its back  reached a safe place he thanked his friend for his life gow', 'moral always have confidence in yourself everyone is unique in his own way', 'testes', '', 'teenie her os we', 'ad', 'ao anh  wan']\n",
      "28\n"
     ]
    },
    {
     "data": {
      "text/plain": [
       "array([[1.        , 0.        , 0.        , 0.33333333, 0.        ,\n",
       "        0.15430335, 0.        , 0.24618298, 0.40824829, 0.        ,\n",
       "        0.23570226, 0.18257419, 0.18257419, 0.12309149, 0.        ,\n",
       "        0.        , 0.        , 0.77459667, 0.28005602, 0.15430335,\n",
       "        0.36927447, 0.26490647, 0.        , 0.        , 0.        ,\n",
       "        0.        , 0.        , 0.        ],\n",
       "       [0.        , 1.        , 0.13363062, 0.20412415, 0.        ,\n",
       "        0.18898224, 0.        , 0.15075567, 0.125     , 0.        ,\n",
       "        0.14433757, 0.2236068 , 0.        , 0.        , 0.        ,\n",
       "        0.        , 0.        , 0.        , 0.08574929, 0.        ,\n",
       "        0.15075567, 0.08111071, 0.        , 0.        , 0.        ,\n",
       "        0.        , 0.        , 0.        ],\n",
       "       [0.        , 0.13363062, 1.        , 0.10910895, 0.        ,\n",
       "        0.30304576, 0.        , 0.0805823 , 0.        , 0.        ,\n",
       "        0.15430335, 0.11952286, 0.        , 0.0805823 , 0.        ,\n",
       "        0.        , 0.        , 0.        , 0.5500191 , 0.        ,\n",
       "        0.0805823 , 0.        , 0.        , 0.        , 0.        ,\n",
       "        0.        , 0.        , 0.        ],\n",
       "       [0.33333333, 0.20412415, 0.10910895, 1.        , 0.        ,\n",
       "        0.3086067 , 0.        , 0.43082022, 0.20412415, 0.        ,\n",
       "        0.23570226, 0.36514837, 0.        , 0.18463724, 0.        ,\n",
       "        0.        , 0.        , 0.25819889, 0.77015405, 0.15430335,\n",
       "        0.24618298, 0.19867985, 0.0745356 , 0.        , 0.        ,\n",
       "        0.        , 0.        , 0.        ],\n",
       "       [0.        , 0.        , 0.        , 0.        , 0.        ,\n",
       "        0.        , 0.        , 0.        , 0.        , 0.        ,\n",
       "        0.        , 0.        , 0.        , 0.        , 0.        ,\n",
       "        0.        , 0.        , 0.        , 0.        , 0.        ,\n",
       "        0.        , 0.        , 0.        , 0.        , 0.        ,\n",
       "        0.        , 0.        , 0.        ],\n",
       "       [0.15430335, 0.18898224, 0.30304576, 0.3086067 , 0.        ,\n",
       "        1.        , 0.10910895, 0.22792115, 0.18898224, 0.        ,\n",
       "        0.32732684, 0.16903085, 0.        , 0.17094086, 0.        ,\n",
       "        0.        , 0.        , 0.11952286, 0.32410186, 0.07142857,\n",
       "        0.28490144, 0.06131393, 0.        , 0.        , 0.        ,\n",
       "        0.        , 0.        , 0.        ],\n",
       "       [0.        , 0.        , 0.        , 0.        , 0.        ,\n",
       "        0.10910895, 1.        , 0.08703883, 0.        , 0.        ,\n",
       "        0.        , 0.        , 0.        , 0.        , 0.        ,\n",
       "        0.        , 0.        , 0.        , 0.        , 0.10910895,\n",
       "        0.        , 0.        , 0.        , 0.        , 0.        ,\n",
       "        0.        , 0.        , 0.        ],\n",
       "       [0.24618298, 0.15075567, 0.0805823 , 0.43082022, 0.        ,\n",
       "        0.22792115, 0.08703883, 1.        , 0.30151134, 0.        ,\n",
       "        0.26111648, 0.26967994, 0.20225996, 0.18181818, 0.        ,\n",
       "        0.        , 0.        , 0.19069252, 0.31025261, 0.68376346,\n",
       "        0.31818182, 0.29346959, 0.16514456, 0.        , 0.        ,\n",
       "        0.        , 0.        , 0.        ],\n",
       "       [0.40824829, 0.125     , 0.        , 0.20412415, 0.        ,\n",
       "        0.18898224, 0.        , 0.30151134, 1.        , 0.        ,\n",
       "        0.4330127 , 0.1118034 , 0.55901699, 0.07537784, 0.20412415,\n",
       "        0.        , 0.        , 0.31622777, 0.17149859, 0.28347335,\n",
       "        0.8291562 , 0.48666426, 0.09128709, 0.        , 0.        ,\n",
       "        0.        , 0.        , 0.        ],\n",
       "       [0.        , 0.        , 0.        , 0.        , 0.        ,\n",
       "        0.        , 0.        , 0.        , 0.        , 0.        ,\n",
       "        0.        , 0.        , 0.        , 0.        , 0.        ,\n",
       "        0.        , 0.        , 0.        , 0.        , 0.        ,\n",
       "        0.        , 0.        , 0.        , 0.        , 0.        ,\n",
       "        0.        , 0.        , 0.        ],\n",
       "       [0.23570226, 0.14433757, 0.15430335, 0.23570226, 0.        ,\n",
       "        0.32732684, 0.        , 0.26111648, 0.4330127 , 0.        ,\n",
       "        1.        , 0.12909944, 0.25819889, 0.17407766, 0.        ,\n",
       "        0.        , 0.        , 0.18257419, 0.29704426, 0.21821789,\n",
       "        0.78334945, 0.28097574, 0.10540926, 0.        , 0.        ,\n",
       "        0.        , 0.        , 0.        ],\n",
       "       [0.18257419, 0.2236068 , 0.11952286, 0.36514837, 0.        ,\n",
       "        0.16903085, 0.        , 0.26967994, 0.1118034 , 0.        ,\n",
       "        0.12909944, 1.        , 0.        , 0.06741999, 0.        ,\n",
       "        0.        , 0.        , 0.14142136, 0.2300895 , 0.08451543,\n",
       "        0.13483997, 0.65292863, 0.        , 0.        , 0.        ,\n",
       "        0.        , 0.        , 0.        ],\n",
       "       [0.18257419, 0.        , 0.        , 0.        , 0.        ,\n",
       "        0.        , 0.        , 0.20225996, 0.55901699, 0.        ,\n",
       "        0.25819889, 0.        , 1.        , 0.        , 0.18257419,\n",
       "        0.        , 0.        , 0.14142136, 0.        , 0.25354628,\n",
       "        0.4719399 , 0.65292863, 0.16329932, 0.        , 0.        ,\n",
       "        0.        , 0.        , 0.        ],\n",
       "       [0.12309149, 0.        , 0.0805823 , 0.18463724, 0.        ,\n",
       "        0.17094086, 0.        , 0.18181818, 0.07537784, 0.        ,\n",
       "        0.17407766, 0.06741999, 0.        , 1.        , 0.        ,\n",
       "        0.        , 0.        , 0.19069252, 0.20683508, 0.17094086,\n",
       "        0.13636364, 0.0489116 , 0.82572282, 0.        , 0.        ,\n",
       "        0.        , 0.        , 0.        ],\n",
       "       [0.        , 0.        , 0.        , 0.        , 0.        ,\n",
       "        0.        , 0.        , 0.        , 0.20412415, 0.        ,\n",
       "        0.        , 0.        , 0.18257419, 0.        , 1.        ,\n",
       "        0.        , 0.        , 0.        , 0.        , 0.        ,\n",
       "        0.12309149, 0.13245324, 0.        , 0.        , 0.        ,\n",
       "        0.        , 0.        , 0.        ],\n",
       "       [0.        , 0.        , 0.        , 0.        , 0.        ,\n",
       "        0.        , 0.        , 0.        , 0.        , 0.        ,\n",
       "        0.        , 0.        , 0.        , 0.        , 0.        ,\n",
       "        0.        , 0.        , 0.        , 0.        , 0.        ,\n",
       "        0.        , 0.        , 0.        , 0.        , 0.        ,\n",
       "        0.        , 0.        , 0.        ],\n",
       "       [0.        , 0.        , 0.        , 0.        , 0.        ,\n",
       "        0.        , 0.        , 0.        , 0.        , 0.        ,\n",
       "        0.        , 0.        , 0.        , 0.        , 0.        ,\n",
       "        0.        , 1.        , 0.        , 0.        , 0.        ,\n",
       "        0.        , 0.        , 0.        , 0.        , 0.        ,\n",
       "        0.        , 0.        , 0.        ],\n",
       "       [0.77459667, 0.        , 0.        , 0.25819889, 0.        ,\n",
       "        0.11952286, 0.        , 0.19069252, 0.31622777, 0.        ,\n",
       "        0.18257419, 0.14142136, 0.14142136, 0.19069252, 0.        ,\n",
       "        0.        , 0.        , 1.        , 0.21693046, 0.11952286,\n",
       "        0.28603878, 0.20519567, 0.        , 0.        , 0.        ,\n",
       "        0.        , 0.        , 0.        ],\n",
       "       [0.28005602, 0.08574929, 0.5500191 , 0.77015405, 0.        ,\n",
       "        0.32410186, 0.        , 0.31025261, 0.17149859, 0.        ,\n",
       "        0.29704426, 0.2300895 , 0.        , 0.20683508, 0.        ,\n",
       "        0.        , 0.        , 0.21693046, 1.        , 0.12964074,\n",
       "        0.25854384, 0.16692447, 0.06262243, 0.        , 0.        ,\n",
       "        0.        , 0.        , 0.        ],\n",
       "       [0.15430335, 0.        , 0.        , 0.15430335, 0.        ,\n",
       "        0.07142857, 0.10910895, 0.68376346, 0.28347335, 0.        ,\n",
       "        0.21821789, 0.08451543, 0.25354628, 0.17094086, 0.        ,\n",
       "        0.        , 0.        , 0.11952286, 0.12964074, 1.        ,\n",
       "        0.28490144, 0.24525574, 0.20701967, 0.        , 0.        ,\n",
       "        0.        , 0.        , 0.        ],\n",
       "       [0.36927447, 0.15075567, 0.0805823 , 0.24618298, 0.        ,\n",
       "        0.28490144, 0.        , 0.31818182, 0.8291562 , 0.        ,\n",
       "        0.78334945, 0.13483997, 0.4719399 , 0.13636364, 0.12309149,\n",
       "        0.        , 0.        , 0.28603878, 0.25854384, 0.28490144,\n",
       "        1.        , 0.44020439, 0.11009638, 0.        , 0.        ,\n",
       "        0.        , 0.        , 0.        ],\n",
       "       [0.26490647, 0.08111071, 0.        , 0.19867985, 0.        ,\n",
       "        0.06131393, 0.        , 0.29346959, 0.48666426, 0.        ,\n",
       "        0.28097574, 0.65292863, 0.65292863, 0.0489116 , 0.13245324,\n",
       "        0.        , 0.        , 0.20519567, 0.16692447, 0.24525574,\n",
       "        0.44020439, 1.        , 0.11846978, 0.        , 0.        ,\n",
       "        0.        , 0.        , 0.        ],\n",
       "       [0.        , 0.        , 0.        , 0.0745356 , 0.        ,\n",
       "        0.        , 0.        , 0.16514456, 0.09128709, 0.        ,\n",
       "        0.10540926, 0.        , 0.16329932, 0.82572282, 0.        ,\n",
       "        0.        , 0.        , 0.        , 0.06262243, 0.20701967,\n",
       "        0.11009638, 0.11846978, 1.        , 0.        , 0.        ,\n",
       "        0.        , 0.        , 0.        ],\n",
       "       [0.        , 0.        , 0.        , 0.        , 0.        ,\n",
       "        0.        , 0.        , 0.        , 0.        , 0.        ,\n",
       "        0.        , 0.        , 0.        , 0.        , 0.        ,\n",
       "        0.        , 0.        , 0.        , 0.        , 0.        ,\n",
       "        0.        , 0.        , 0.        , 1.        , 0.        ,\n",
       "        0.        , 0.        , 0.        ],\n",
       "       [0.        , 0.        , 0.        , 0.        , 0.        ,\n",
       "        0.        , 0.        , 0.        , 0.        , 0.        ,\n",
       "        0.        , 0.        , 0.        , 0.        , 0.        ,\n",
       "        0.        , 0.        , 0.        , 0.        , 0.        ,\n",
       "        0.        , 0.        , 0.        , 0.        , 0.        ,\n",
       "        0.        , 0.        , 0.        ],\n",
       "       [0.        , 0.        , 0.        , 0.        , 0.        ,\n",
       "        0.        , 0.        , 0.        , 0.        , 0.        ,\n",
       "        0.        , 0.        , 0.        , 0.        , 0.        ,\n",
       "        0.        , 0.        , 0.        , 0.        , 0.        ,\n",
       "        0.        , 0.        , 0.        , 0.        , 0.        ,\n",
       "        1.        , 0.        , 0.        ],\n",
       "       [0.        , 0.        , 0.        , 0.        , 0.        ,\n",
       "        0.        , 0.        , 0.        , 0.        , 0.        ,\n",
       "        0.        , 0.        , 0.        , 0.        , 0.        ,\n",
       "        0.        , 0.        , 0.        , 0.        , 0.        ,\n",
       "        0.        , 0.        , 0.        , 0.        , 0.        ,\n",
       "        0.        , 1.        , 0.        ],\n",
       "       [0.        , 0.        , 0.        , 0.        , 0.        ,\n",
       "        0.        , 0.        , 0.        , 0.        , 0.        ,\n",
       "        0.        , 0.        , 0.        , 0.        , 0.        ,\n",
       "        0.        , 0.        , 0.        , 0.        , 0.        ,\n",
       "        0.        , 0.        , 0.        , 0.        , 0.        ,\n",
       "        0.        , 0.        , 1.        ]])"
      ]
     },
     "execution_count": 4,
     "metadata": {},
     "output_type": "execute_result"
    }
   ],
   "source": [
    "v=CountVectorizer()\n",
    "print(flattened_text)\n",
    "l_f=len(flattened_text)\n",
    "print(l_f)\n",
    "transformed=v.fit_transform(flattened_text)\n",
    "similarity=cosine_similarity(transformed)\n",
    "similarity"
   ]
  },
  {
   "cell_type": "code",
   "execution_count": 5,
   "metadata": {},
   "outputs": [
    {
     "data": {
      "text/plain": [
       "1.0000000000000002"
      ]
     },
     "execution_count": 5,
     "metadata": {},
     "output_type": "execute_result"
    }
   ],
   "source": [
    "similarity[3][3]"
   ]
  },
  {
   "cell_type": "code",
   "execution_count": 6,
   "metadata": {},
   "outputs": [
    {
     "name": "stdout",
     "output_type": "stream",
     "text": [
      "['the true friend.', 'once there were two friends: a squirrel and a puppy.', 'they used to live and play together.', 'the squirrel was very sporty and always won the game.', '.', 'the puppy used to feel bad and thought that it was of no use.', 'one day it started raining heavily.', 'the squirrel was in high spirits; he started doing antics but suddenly lost his balance and fell into the rainwater.', 'he called his friend, the puppy, for help.', '.', 'the puppy came to his rescue.', 'the squirrel climbed on its back and reached a safe place.', 'he thanked his friend for saving his life.', 'moral of the story is always to have confidence in yourself; everyone is unique in their own way.', 'thanks for watching.', '.', 'you.', 'a short story the true friend', 'they used to live  play together the squirrel was very sporty  always won the game', 'wea he started antics but suddenly lost his balance  fell in the rain water', 'he called his friend the puppy for help the puppy came to his rescue go por', 'the squirrel climbed on its back  reached a safe place he thanked his friend for his life gow', 'moral always have confidence in yourself everyone is unique in his own way', 'testes', '', 'teenie her os we', 'ad', 'ao anh  wan']\n",
      "28\n",
      "<class 'list'>\n",
      "['the true friend.', 'once there were two friends: a squirrel and a puppy.', 'they used to live and play together.', 'the squirrel was very sporty and always won the game.', '.', 'the puppy used to feel bad and thought that it was of no use.', 'one day it started raining heavily.', 'the squirrel was in high spirits; he started doing antics but suddenly lost his balance and fell into the rainwater.', 'he called his friend, the puppy, for help.', '.', 'the puppy came to his rescue.', 'the squirrel climbed on its back and reached a safe place.', 'he thanked his friend for saving his life.', 'moral of the story is always to have confidence in yourself; everyone is unique in their own way.', 'thanks for watching.', '.', 'you.', 'a short story the true friend', 'they used to live  play together the squirrel was very sporty  always won the game', 'wea he started antics but suddenly lost his balance  fell in the rain water', 'he called his friend the puppy for help the puppy came to his rescue go por', 'the squirrel climbed on its back  reached a safe place he thanked his friend for his life gow', 'moral always have confidence in yourself everyone is unique in his own way', 'testes', '', 'teenie her os we', 'ad', 'ao anh  wan']\n"
     ]
    }
   ],
   "source": [
    "print(flattened_text)\n",
    "l_f=len(flattened_text)\n",
    "print(l_f)\n",
    "print(type(flattened_text))\n",
    "print(flattened_text)"
   ]
  },
  {
   "cell_type": "code",
   "execution_count": 7,
   "metadata": {},
   "outputs": [
    {
     "name": "stdout",
     "output_type": "stream",
     "text": [
      "0.7745966692414834\n",
      "a short story the true friend\n",
      "0.7701540462154054\n",
      "they used to live  play together the squirrel was very sporty  always won the game\n",
      "0.6837634587578277\n",
      "wea he started antics but suddenly lost his balance  fell in the rain water\n",
      "0.8291561975888497\n",
      "he called his friend the puppy for help the puppy came to his rescue go por\n",
      "0.7833494518006403\n",
      "x\n",
      "0.6529286250990105\n",
      "the squirrel climbed on its back  reached a safe place he thanked his friend for his life gow\n",
      "0.6529286250990105\n",
      "x\n",
      "0.8257228238447705\n",
      "moral always have confidence in yourself everyone is unique in his own way\n",
      "28\n",
      "['the true friend.', 'once there were two friends: a squirrel and a puppy.', 'they used to live and play together.', 'the squirrel was very sporty and always won the game.', '.', 'the puppy used to feel bad and thought that it was of no use.', 'one day it started raining heavily.', 'the squirrel was in high spirits; he started doing antics but suddenly lost his balance and fell into the rainwater.', 'he called his friend, the puppy, for help.', '.', 'the puppy came to his rescue.', 'the squirrel climbed on its back and reached a safe place.', 'he thanked his friend for saving his life.', 'moral of the story is always to have confidence in yourself; everyone is unique in their own way.', 'thanks for watching.', '.', 'you.', 'x', 'x', 'x', 'x', 'x', 'x', 'testes', '', 'teenie her os we', 'ad', 'ao anh  wan']\n"
     ]
    }
   ],
   "source": [
    "for i in range(len(flattened_text)-1):\n",
    "    if (i + 1) >= len(flattened_text):\n",
    "        break\n",
    "    for j in range(i+1, len(flattened_text)-1):\n",
    "        # print(i,j)\n",
    "        if similarity[i][j] > 0.6:\n",
    "            print(similarity[i][j])\n",
    "            print(flattened_text[j])\n",
    "            flattened_text[j] = \"x\"\n",
    "\n",
    "print(len(flattened_text))\n",
    "print(flattened_text)\n"
   ]
  },
  {
   "cell_type": "code",
   "execution_count": 8,
   "metadata": {},
   "outputs": [
    {
     "name": "stdout",
     "output_type": "stream",
     "text": [
      "['the true friend.', 'once there were two friends: a squirrel and a puppy.', 'they used to live and play together.', 'the squirrel was very sporty and always won the game.', '.', 'the puppy used to feel bad and thought that it was of no use.', 'one day it started raining heavily.', 'the squirrel was in high spirits; he started doing antics but suddenly lost his balance and fell into the rainwater.', 'he called his friend, the puppy, for help.', '.', 'the puppy came to his rescue.', 'the squirrel climbed on its back and reached a safe place.', 'he thanked his friend for saving his life.', 'moral of the story is always to have confidence in yourself; everyone is unique in their own way.', 'thanks for watching.', '.', 'you.', 'testes', '', 'teenie her os we', 'ad', 'ao anh  wan']\n",
      "22\n"
     ]
    }
   ],
   "source": [
    "final=[]\n",
    "for i in range(len(flattened_text)):\n",
    "    if flattened_text[i]!='x':\n",
    "        final.append(flattened_text[i])\n",
    "print(final)\n",
    "print(len(final))"
   ]
  },
  {
   "cell_type": "code",
   "execution_count": 9,
   "metadata": {},
   "outputs": [
    {
     "name": "stdout",
     "output_type": "stream",
     "text": [
      "the true friend. once there were two friends: a squirrel and a puppy. they used to live and play together. the squirrel was very sporty and always won the game. . the puppy used to feel bad and thought that it was of no use. one day it started raining heavily. the squirrel was in high spirits; he started doing antics but suddenly lost his balance and fell into the rainwater. he called his friend, the puppy, for help. . the puppy came to his rescue. the squirrel climbed on its back and reached a safe place. he thanked his friend for saving his life. moral of the story is always to have confidence in yourself; everyone is unique in their own way. thanks for watching. . you. testes  teenie her os we ad ao anh  wan\n"
     ]
    }
   ],
   "source": [
    "final=\" \".join(final)\n",
    "print(final)"
   ]
  },
  {
   "cell_type": "code",
   "execution_count": 10,
   "metadata": {},
   "outputs": [],
   "source": [
    "expected='''the true friend. once there were two friends: a squirrel and a puppy. they used to live and play together. the squirrel was very sporty and always won the game.. the puppy used to feel bad and thought that it was of no use. one day it started raining heavily. the squirrel was in high spirits; he started doing antics but suddenly lost his balance and fell into the rainwater. he called his friend, the puppy, for help. the puppy came to his rescue. the squirrel climbed on its back and reached a safe place. he thanked his friend for saving his life. moral of the story is always to have confidence in yourself; everyone is unique in their own way. thanks for watching.'''"
   ]
  },
  {
   "cell_type": "code",
   "execution_count": 11,
   "metadata": {},
   "outputs": [
    {
     "data": {
      "text/plain": [
       "'the true friend  once there were two friends  a squirrel and a puppy  they used to live and play together  the squirrel was very sporty and always won the game   the puppy used to feel bad and thought that it was of no use  one day it started raining heavily  the squirrel was in high spirits  he started doing antics but suddenly lost his balance and fell into the rainwater  he called his friend  the puppy  for help  the puppy came to his rescue  the squirrel climbed on its back and reached a safe place  he thanked his friend for saving his life  moral of the story is always to have confidence in yourself  everyone is unique in their own way  thanks for watching '"
      ]
     },
     "execution_count": 11,
     "metadata": {},
     "output_type": "execute_result"
    }
   ],
   "source": [
    "import re\n",
    "final=re.sub('[.:;,\\-–—]',\" \",final)\n",
    "expected=re.sub('[.:;,\\-–—]',\" \",expected)\n",
    "final\n",
    "expected"
   ]
  },
  {
   "cell_type": "code",
   "execution_count": 12,
   "metadata": {},
   "outputs": [
    {
     "name": "stdout",
     "output_type": "stream",
     "text": [
      "['the', 'true', 'friend', 'once', 'there', 'were', 'two', 'friends', 'a', 'squirrel', 'and', 'a', 'puppy', 'they', 'used', 'to', 'live', 'and', 'play', 'together', 'the', 'squirrel', 'was', 'very', 'sporty', 'and', 'always', 'won', 'the', 'game', 'the', 'puppy', 'used', 'to', 'feel', 'bad', 'and', 'thought', 'that', 'it', 'was', 'of', 'no', 'use', 'one', 'day', 'it', 'started', 'raining', 'heavily', 'the', 'squirrel', 'was', 'in', 'high', 'spirits', 'he', 'started', 'doing', 'antics', 'but', 'suddenly', 'lost', 'his', 'balance', 'and', 'fell', 'into', 'the', 'rainwater', 'he', 'called', 'his', 'friend', 'the', 'puppy', 'for', 'help', 'the', 'puppy', 'came', 'to', 'his', 'rescue', 'the', 'squirrel', 'climbed', 'on', 'its', 'back', 'and', 'reached', 'a', 'safe', 'place', 'he', 'thanked', 'his', 'friend', 'for', 'saving', 'his', 'life', 'moral', 'of', 'the', 'story', 'is', 'always', 'to', 'have', 'confidence', 'in', 'yourself', 'everyone', 'is', 'unique', 'in', 'their', 'own', 'way', 'thanks', 'for', 'watching', 'you', 'testes', 'teenie', 'her', 'os', 'we', 'ad', 'ao', 'anh', 'wan']\n",
      "[['the', 'true', 'friend', 'once', 'there', 'were', 'two', 'friends', 'a', 'squirrel', 'and', 'a', 'puppy', 'they', 'used', 'to', 'live', 'and', 'play', 'together', 'the', 'squirrel', 'was', 'very', 'sporty', 'and', 'always', 'won', 'the', 'game', 'the', 'puppy', 'used', 'to', 'feel', 'bad', 'and', 'thought', 'that', 'it', 'was', 'of', 'no', 'use', 'one', 'day', 'it', 'started', 'raining', 'heavily', 'the', 'squirrel', 'was', 'in', 'high', 'spirits', 'he', 'started', 'doing', 'antics', 'but', 'suddenly', 'lost', 'his', 'balance', 'and', 'fell', 'into', 'the', 'rainwater', 'he', 'called', 'his', 'friend', 'the', 'puppy', 'for', 'help', 'the', 'puppy', 'came', 'to', 'his', 'rescue', 'the', 'squirrel', 'climbed', 'on', 'its', 'back', 'and', 'reached', 'a', 'safe', 'place', 'he', 'thanked', 'his', 'friend', 'for', 'saving', 'his', 'life', 'moral', 'of', 'the', 'story', 'is', 'always', 'to', 'have', 'confidence', 'in', 'yourself', 'everyone', 'is', 'unique', 'in', 'their', 'own', 'way', 'thanks', 'for', 'watching']]\n"
     ]
    }
   ],
   "source": [
    "# import evaluate\n",
    "from nltk import word_tokenize\n",
    "reference=word_tokenize(expected)\n",
    "final=word_tokenize(final)\n",
    "reference=[reference]\n",
    "print(final)\n",
    "print(reference)"
   ]
  },
  {
   "cell_type": "code",
   "execution_count": 13,
   "metadata": {},
   "outputs": [
    {
     "name": "stdout",
     "output_type": "stream",
     "text": [
      "0.9245227083025298\n"
     ]
    }
   ],
   "source": [
    "from nltk.translate.bleu_score import sentence_bleu\n",
    "score = sentence_bleu(reference, final)\n",
    "print(score)"
   ]
  }
 ],
 "metadata": {
  "kernelspec": {
   "display_name": "project",
   "language": "python",
   "name": "python3"
  },
  "language_info": {
   "codemirror_mode": {
    "name": "ipython",
    "version": 3
   },
   "file_extension": ".py",
   "mimetype": "text/x-python",
   "name": "python",
   "nbconvert_exporter": "python",
   "pygments_lexer": "ipython3",
   "version": "3.9.17"
  }
 },
 "nbformat": 4,
 "nbformat_minor": 2
}
