{
 "cells": [
  {
   "cell_type": "markdown",
   "metadata": {},
   "source": [
    "download Youtube Video"
   ]
  },
  {
   "cell_type": "code",
   "execution_count": 2,
   "metadata": {},
   "outputs": [],
   "source": [
    "from pytube import YouTube\n",
    "import cv2\n",
    "import matplotlib.pyplot as plt\n",
    "import numpy as np"
   ]
  },
  {
   "cell_type": "code",
   "execution_count": 3,
   "metadata": {},
   "outputs": [
    {
     "name": "stdout",
     "output_type": "stream",
     "text": [
      "Error\n",
      "Download Success\n"
     ]
    }
   ],
   "source": [
    "def Download(link):\n",
    "    y=YouTube(link)\n",
    "    y=y.streams.get_highest_resolution()\n",
    "    try:\n",
    "        y.download()\n",
    "    except:\n",
    "        print(\"Error\")\n",
    "    print(\"Download Success\")\n",
    "link=input(\"Enter Link\")\n",
    "Download(link)"
   ]
  },
  {
   "cell_type": "code",
   "execution_count": 29,
   "metadata": {},
   "outputs": [
    {
     "name": "stdout",
     "output_type": "stream",
     "text": [
      "Download Success\n"
     ]
    }
   ],
   "source": [
    "def download_video(link, download_path):\n",
    "    try:\n",
    "        yt = YouTube(link)\n",
    "        stream = yt.streams.get_highest_resolution()\n",
    "        stream.download(output_path=download_path)\n",
    "        print(\"Download Success\")\n",
    "    except Exception as e:\n",
    "        print(\"Error:\", str(e))\n",
    "if __name__ == \"__main__\":\n",
    "    link = input(\"Enter Link: \")\n",
    "    download_path =\"D:\\Course_project_ml_5th_sem\\Course_project_ml_5th_sem\\data\"\n",
    "    x=download_video(link, download_path)\n"
   ]
  },
  {
   "cell_type": "code",
   "execution_count": null,
   "metadata": {},
   "outputs": [],
   "source": [
    "import cv2\n",
    "import numpy as np\n",
    "from sklearn.metrics import mean_squared_error\n",
    "# Load the video\n",
    "vidcap = cv2.VideoCapture('data/Short Stories  Moral Stories  The True Friend  writtentreasures shortstoriesinenglish.mp4')\n",
    "count = 0\n",
    "i=0\n",
    "success, prev_frame = vidcap.read()\n",
    "a=[]\n",
    "fps = int(vidcap.get(cv2.CAP_PROP_FPS))\n",
    "while success:\n",
    "    success, current_frame = vidcap.read()\n",
    "    \n",
    "    # Check if the frames are the same\n",
    "    i1=current_frame.flatten()\n",
    "    i2=prev_frame.flatten()\n",
    "    mse=mean_squared_error(i1,i2)\n",
    "    a.append(mse)\n",
    "    print(mse)\n",
    "   \n",
    "    if mse>10:\n",
    "        cv2.imwrite('frame%d.jpg' % i, current_frame)\n",
    "        print('Successfully written frame', count)\n",
    "        i+=1\n",
    "    count += 1\n",
    "    prev_frame = current_frame\n",
    "\n",
    "print('Finished processing frames.')\n"
   ]
  },
  {
   "cell_type": "code",
   "execution_count": 51,
   "metadata": {},
   "outputs": [
    {
     "data": {
      "text/plain": [
       "[<matplotlib.lines.Line2D at 0x152da99e850>]"
      ]
     },
     "execution_count": 51,
     "metadata": {},
     "output_type": "execute_result"
    },
    {
     "data": {
      "image/png": "[encoded data removed]",
      "text/plain": [
       "<Figure size 640x480 with 1 Axes>"
      ]
     },
     "metadata": {},
     "output_type": "display_data"
    }
   ],
   "source": [
    "b=[]\n",
    "for j in range(len(a)):\n",
    "  b.append(j)\n",
    "# print(len(a))\n",
    "# print(len(b))\n",
    "plt.plot(b,a)"
   ]
  },
  {
   "cell_type": "code",
   "execution_count": 25,
   "metadata": {},
   "outputs": [
    {
     "name": "stdout",
     "output_type": "stream",
     "text": [
      "now children state should after above same long made such\n",
      "\n",
      "point run take call together few being would walk give\n",
      "\n"
     ]
    }
   ],
   "source": [
    "import pytesseract as p\n",
    "p.pytesseract.tesseract_cmd=r'C:\\Users\\Lenovo\\AppData\\Local\\Programs\\Tesseract-OCR\\tesseract.exe'\n",
    "image=cv2.imread('data\\sampletxt.png')\n",
    "text=p.image_to_string(image)\n",
    "print(text)"
   ]
  },
  {
   "cell_type": "code",
   "execution_count": 2,
   "metadata": {},
   "outputs": [
    {
     "name": "stdout",
     "output_type": "stream",
     "text": [
      "_— He called his friend,\n",
      "the puppy for help.\n",
      "The puppy came to\n",
      "\n",
      "his rescue.\n",
      "\n",
      "erry aun 1405S mB NRIREYHMNDHGT SH 410000544004 gO POR RONODAAQDUHARAARIANARS\n",
      "\n",
      "\n"
     ]
    }
   ],
   "source": [
    "import cv2\n",
    "import pytesseract as p\n",
    "p.pytesseract.tesseract_cmd=r'C:\\Users\\Lenovo\\AppData\\Local\\Programs\\Tesseract-OCR\\tesseract.exe'\n",
    "image=cv2.imread('frame10.jpg')\n",
    "text=p.image_to_string(image)\n",
    "print(text)"
   ]
  },
  {
   "cell_type": "code",
   "execution_count": 3,
   "metadata": {},
   "outputs": [
    {
     "name": "stdout",
     "output_type": "stream",
     "text": [
      "\n"
     ]
    },
    {
     "ename": "TypeError",
     "evalue": "string indices must be integers",
     "output_type": "error",
     "traceback": [
      "\u001b[1;31m---------------------------------------------------------------------------\u001b[0m",
      "\u001b[1;31mTypeError\u001b[0m                                 Traceback (most recent call last)",
      "\u001b[1;32md:\\Course_project_ml_5th_sem\\Course_project_ml_5th_sem\\OCR.ipynb Cell 9\u001b[0m line \u001b[0;36m1\n\u001b[0;32m     <a href='vscode-notebook-cell:/d%3A/Course_project_ml_5th_sem/Course_project_ml_5th_sem/OCR.ipynb#X11sZmlsZQ%3D%3D?line=9'>10</a>\u001b[0m text\u001b[39m=\u001b[39mp\u001b[39m.\u001b[39mimage_to_string(image)\n\u001b[0;32m     <a href='vscode-notebook-cell:/d%3A/Course_project_ml_5th_sem/Course_project_ml_5th_sem/OCR.ipynb#X11sZmlsZQ%3D%3D?line=10'>11</a>\u001b[0m \u001b[39mif\u001b[39;00m(prev \u001b[39m!=\u001b[39m text):\n\u001b[1;32m---> <a href='vscode-notebook-cell:/d%3A/Course_project_ml_5th_sem/Course_project_ml_5th_sem/OCR.ipynb#X11sZmlsZQ%3D%3D?line=11'>12</a>\u001b[0m   transcript_ \u001b[39m=\u001b[39m \u001b[39m'\u001b[39m\u001b[39m \u001b[39m\u001b[39m'\u001b[39m\u001b[39m.\u001b[39mjoin([d[\u001b[39m'\u001b[39m\u001b[39mt\u001b[39m\u001b[39m'\u001b[39m] \u001b[39mfor\u001b[39;00m d \u001b[39min\u001b[39;00m text])\n\u001b[0;32m     <a href='vscode-notebook-cell:/d%3A/Course_project_ml_5th_sem/Course_project_ml_5th_sem/OCR.ipynb#X11sZmlsZQ%3D%3D?line=12'>13</a>\u001b[0m   \u001b[39mprint\u001b[39m(text)\n\u001b[0;32m     <a href='vscode-notebook-cell:/d%3A/Course_project_ml_5th_sem/Course_project_ml_5th_sem/OCR.ipynb#X11sZmlsZQ%3D%3D?line=13'>14</a>\u001b[0m prev\u001b[39m=\u001b[39mtext\n",
      "\u001b[1;32md:\\Course_project_ml_5th_sem\\Course_project_ml_5th_sem\\OCR.ipynb Cell 9\u001b[0m line \u001b[0;36m1\n\u001b[0;32m     <a href='vscode-notebook-cell:/d%3A/Course_project_ml_5th_sem/Course_project_ml_5th_sem/OCR.ipynb#X11sZmlsZQ%3D%3D?line=9'>10</a>\u001b[0m text\u001b[39m=\u001b[39mp\u001b[39m.\u001b[39mimage_to_string(image)\n\u001b[0;32m     <a href='vscode-notebook-cell:/d%3A/Course_project_ml_5th_sem/Course_project_ml_5th_sem/OCR.ipynb#X11sZmlsZQ%3D%3D?line=10'>11</a>\u001b[0m \u001b[39mif\u001b[39;00m(prev \u001b[39m!=\u001b[39m text):\n\u001b[1;32m---> <a href='vscode-notebook-cell:/d%3A/Course_project_ml_5th_sem/Course_project_ml_5th_sem/OCR.ipynb#X11sZmlsZQ%3D%3D?line=11'>12</a>\u001b[0m   transcript_ \u001b[39m=\u001b[39m \u001b[39m'\u001b[39m\u001b[39m \u001b[39m\u001b[39m'\u001b[39m\u001b[39m.\u001b[39mjoin([d[\u001b[39m'\u001b[39;49m\u001b[39mt\u001b[39;49m\u001b[39m'\u001b[39;49m] \u001b[39mfor\u001b[39;00m d \u001b[39min\u001b[39;00m text])\n\u001b[0;32m     <a href='vscode-notebook-cell:/d%3A/Course_project_ml_5th_sem/Course_project_ml_5th_sem/OCR.ipynb#X11sZmlsZQ%3D%3D?line=12'>13</a>\u001b[0m   \u001b[39mprint\u001b[39m(text)\n\u001b[0;32m     <a href='vscode-notebook-cell:/d%3A/Course_project_ml_5th_sem/Course_project_ml_5th_sem/OCR.ipynb#X11sZmlsZQ%3D%3D?line=13'>14</a>\u001b[0m prev\u001b[39m=\u001b[39mtext\n",
      "\u001b[1;31mTypeError\u001b[0m: string indices must be integers"
     ]
    }
   ],
   "source": [
    "import cv2\n",
    "import pytesseract as p\n",
    "from nltk.corpus import wordnet\n",
    "\n",
    "p.pytesseract.tesseract_cmd = r'C:\\Users\\Lenovo\\AppData\\Local\\Programs\\Tesseract-OCR\\tesseract.exe'\n",
    "prev=0\n",
    "for j in range(38):\n",
    "    img_path = r\"frame{}.jpg\".format(j)\n",
    "    image = cv2.imread(img_path)\n",
    "    text=p.image_to_string(image)\n",
    "    if(prev != text):\n",
    "      transcript_ = ' '.join([d['t'] for d in text])\n",
    "      print(text)\n",
    "    prev=text"
   ]
  },
  {
   "cell_type": "code",
   "execution_count": 23,
   "metadata": {},
   "outputs": [
    {
     "name": "stdout",
     "output_type": "stream",
     "text": [
      "(720, 1280, 3)\n",
      "The images have same size and channels\n",
      "[[ 0  0  0 ...  1  0  1]\n",
      " [ 0  0  0 ...  1  1  1]\n",
      " [ 0  0  0 ...  1  1  1]\n",
      " ...\n",
      " [ 0  2  0 ... 16 10  6]\n",
      " [ 0  0  0 ...  0  0  0]\n",
      " [ 0  0  0 ...  8  3  0]]\n"
     ]
    }
   ],
   "source": [
    "import cv2\n",
    "import numpy as np\n",
    "original = cv2.imread(\"frame1.jpg\")\n",
    "duplicate = cv2.imread(\"frame9.jpg\")\n",
    "print(original.shape)\n",
    "# 1) Check if 2 images are equals\n",
    "if original.shape == duplicate.shape:\n",
    "  print(\"The images have same size and channels\")\n",
    "difference = cv2.subtract(original, duplicate)\n",
    "b, g, r = cv2.split(difference)\n",
    "print(b)\n",
    "if cv2.countNonZero(b) <= 0000 and cv2.countNonZero(g) <= 90000 and cv2.countNonZero(r) <= 90000:\n",
    " print(\"The images are completely Equal\")\n",
    "cv2.imshow(\"Original\", original)\n",
    "cv2.imshow(\"Duplicate\", duplicate)\n",
    "cv2.waitKey(0)\n",
    "cv2.destroyAllWindows()"
   ]
  },
  {
   "cell_type": "code",
   "execution_count": 16,
   "metadata": {},
   "outputs": [
    {
     "name": "stdout",
     "output_type": "stream",
     "text": [
      "'example' is present in WordNet.\n",
      "Definition: an item of information that is typical of a class or group\n",
      "Examples: ['this patient provides a typical example of the syndrome', 'there is an example on page 10']\n",
      "Definition: a representative form or pattern\n",
      "Examples: ['I profited from his example']\n",
      "Definition: something to be imitated\n",
      "Examples: ['an exemplar of success', 'a model of clarity', 'he is the very model of a modern major general']\n",
      "Definition: punishment intended as a warning to others\n",
      "Examples: ['they decided to make an example of him']\n",
      "Definition: an occurrence of something\n",
      "Examples: ['it was a case of bad judgment', 'another instance occurred yesterday', 'but there is always the famous example of the Smiths']\n",
      "Definition: a task performed or problem solved in order to develop skill or understanding\n",
      "Examples: ['you must work the examples at the end of each chapter in the textbook']\n"
     ]
    }
   ],
   "source": [
    "from nltk.corpus import wordnet\n",
    "\n",
    "def check_word_in_wordnet(word):\n",
    "    # Check if the word is in WordNet\n",
    "    synsets = wordnet.synsets(word)\n",
    "    \n",
    "    if synsets:\n",
    "        print(f\"'{word}' is present in WordNet.\")\n",
    "        for synset in synsets:\n",
    "            print(\"Definition:\", synset.definition())\n",
    "            print(\"Examples:\", synset.examples())\n",
    "    else:\n",
    "        print(f\"'{word}' is not present in WordNet.\")\n",
    "\n",
    "# Word to check\n",
    "word_to_check = 'example'\n",
    "\n",
    "# Check if the word is in WordNet\n",
    "check_word_in_wordnet(word_to_check)\n",
    "\n"
   ]
  },
  {
   "cell_type": "code",
   "execution_count": 28,
   "metadata": {},
   "outputs": [
    {
     "name": "stdout",
     "output_type": "stream",
     "text": [
      "present\n",
      "present\n",
      "absent\n",
      "absent\n",
      "present\n"
     ]
    }
   ],
   "source": [
    "from nltk.corpus import wordnet\n",
    "words=['ant','apple','afgwyufg2','aswefw','water']\n",
    "for word in words:\n",
    "    x=wordnet.synsets(word)\n",
    "    if x:\n",
    "        print('present')\n",
    "    else: print('absent')"
   ]
  }
 ],
 "metadata": {
  "kernelspec": {
   "display_name": "project",
   "language": "python",
   "name": "python3"
  },
  "language_info": {
   "codemirror_mode": {
    "name": "ipython",
    "version": 3
   },
   "file_extension": ".py",
   "mimetype": "text/x-python",
   "name": "python",
   "nbconvert_exporter": "python",
   "pygments_lexer": "ipython3",
   "version": "3.9.17"
  },
  "orig_nbformat": 4
 },
 "nbformat": 4,
 "nbformat_minor": 2
}
