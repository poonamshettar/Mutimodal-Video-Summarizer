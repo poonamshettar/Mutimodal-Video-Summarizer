{
 "cells": [
  {
   "cell_type": "markdown",
   "metadata": {},
   "source": [
    "download Youtube Video"
   ]
  },
  {
   "cell_type": "code",
   "execution_count": 13,
   "metadata": {},
   "outputs": [],
   "source": [
    "from pytube import YouTube"
   ]
  },
  {
   "cell_type": "code",
   "execution_count": 14,
   "metadata": {},
   "outputs": [
    {
     "name": "stdout",
     "output_type": "stream",
     "text": [
      "Download Success\n"
     ]
    }
   ],
   "source": [
    "def Download(link):\n",
    "    y=YouTube(link)\n",
    "    y=y.streams.get_highest_resolution()\n",
    "    try:\n",
    "        y.download()\n",
    "    except:\n",
    "        print(\"Error\")\n",
    "    print(\"Download Success\")\n",
    "link=input(\"Enter Link\")\n",
    "Download(link)"
   ]
  },
  {
   "cell_type": "code",
   "execution_count": 29,
   "metadata": {},
   "outputs": [
    {
     "name": "stdout",
     "output_type": "stream",
     "text": [
      "Download Success\n"
     ]
    }
   ],
   "source": [
    "def download_video(link, download_path):\n",
    "    try:\n",
    "        yt = YouTube(link)\n",
    "        stream = yt.streams.get_highest_resolution()\n",
    "        stream.download(output_path=download_path)\n",
    "        print(\"Download Success\")\n",
    "    except Exception as e:\n",
    "        print(\"Error:\", str(e))\n",
    "if __name__ == \"__main__\":\n",
    "    link = input(\"Enter Link: \")\n",
    "    download_path =\"D:\\Course_project_ml_5th_sem\\Course_project_ml_5th_sem\\data\"\n",
    "    x=download_video(link, download_path)\n"
   ]
  },
  {
   "cell_type": "code",
   "execution_count": null,
   "metadata": {},
   "outputs": [],
   "source": [
    "import cv2\n",
    "import numpy as np\n",
    "vidcap = cv2.VideoCapture('data\\Short Stories  Moral Stories  The True Friend  writtentreasures shortstoriesinenglish.mp4')\n",
    "count = 0\n",
    "success = True\n",
    "# fps = int(vidcap.get(cv2.CAP_PROP_FPS))\n",
    "prev_img=0\n",
    "while success:\n",
    "    success,image = vidcap.read()\n",
    "    print('read a new frame:',success)\n",
    "    size=image.size\n",
    "    if prev_img!=image:\n",
    "         cv2.imwrite('frame%d.jpg'%count,image)\n",
    "         print('successfully written 10th frame')\n",
    "         count+=1\n",
    "    prev_img=image"
   ]
  },
  {
   "cell_type": "code",
   "execution_count": 35,
   "metadata": {},
   "outputs": [
    {
     "name": "stdout",
     "output_type": "stream",
     "text": [
      "228501\n"
     ]
    }
   ],
   "source": [
    "import cv2\n",
    "import numpy as np\n",
    "img=cv2.imread('data\\sampletxt.png')\n",
    "size=img.size\n",
    "print(size)"
   ]
  }
 ],
 "metadata": {
  "kernelspec": {
   "display_name": "project",
   "language": "python",
   "name": "python3"
  },
  "language_info": {
   "codemirror_mode": {
    "name": "ipython",
    "version": 3
   },
   "file_extension": ".py",
   "mimetype": "text/x-python",
   "name": "python",
   "nbconvert_exporter": "python",
   "pygments_lexer": "ipython3",
   "version": "3.9.17"
  },
  "orig_nbformat": 4
 },
 "nbformat": 4,
 "nbformat_minor": 2
}
