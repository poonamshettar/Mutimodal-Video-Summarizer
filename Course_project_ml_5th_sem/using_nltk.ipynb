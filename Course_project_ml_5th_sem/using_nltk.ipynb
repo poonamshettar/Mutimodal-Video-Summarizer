{
 "cells": [
  {
   "cell_type": "markdown",
   "metadata": {},
   "source": [
    "Exploring Features of NLTK Library"
   ]
  },
  {
   "cell_type": "code",
   "execution_count": 1,
   "metadata": {},
   "outputs": [],
   "source": [
    "import nltk"
   ]
  },
  {
   "cell_type": "markdown",
   "metadata": {},
   "source": [
    "open text file for processing"
   ]
  },
  {
   "cell_type": "code",
   "execution_count": 2,
   "metadata": {},
   "outputs": [
    {
     "name": "stdout",
     "output_type": "stream",
     "text": [
      "<class 'str'>\n",
      "737\n",
      "Natural Language Processing (NLP) is a field of artificial intelligence focused on enabling computers to understand, analyze, and generate human language. It involves preprocessing text by breaking it into smaller units (tokenization), identifying grammatical components (part of speech tagging), and extracting meaningful entities (named entity recognition). NLP also encompasses semantic analysis to understand context and sentiment, machine translation, text generation, question answering, and topic modeling. Techniques like machine learning and deep learning, employing neural networks and transformers, are often used to achieve these tasks, enhancing computers' ability to comprehend and interact with human language effectively.\n"
     ]
    }
   ],
   "source": [
    "input_txt_file=open('sample_txt.txt')\n",
    "input_txt=input_txt_file.read()\n",
    "print(type(input_txt))\n",
    "print(len(input_txt))\n",
    "print(input_txt)"
   ]
  }
 ],
 "metadata": {
  "kernelspec": {
   "display_name": "project",
   "language": "python",
   "name": "python3"
  },
  "language_info": {
   "codemirror_mode": {
    "name": "ipython",
    "version": 3
   },
   "file_extension": ".py",
   "mimetype": "text/x-python",
   "name": "python",
   "nbconvert_exporter": "python",
   "pygments_lexer": "ipython3",
   "version": "3.9.17"
  }
 },
 "nbformat": 4,
 "nbformat_minor": 2
}
