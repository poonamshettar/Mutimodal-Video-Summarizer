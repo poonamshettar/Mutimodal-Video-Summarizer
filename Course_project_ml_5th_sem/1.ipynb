{
 "cells": [
  {
   "cell_type": "code",
   "execution_count": 3,
   "metadata": {},
   "outputs": [
    {
     "name": "stderr",
     "output_type": "stream",
     "text": [
      "c:\\conda\\envs\\project\\lib\\site-packages\\tqdm\\auto.py:21: TqdmWarning: IProgress not found. Please update jupyter and ipywidgets. See https://ipywidgets.readthedocs.io/en/stable/user_install.html\n",
      "  from .autonotebook import tqdm as notebook_tqdm\n"
     ]
    }
   ],
   "source": [
    "from youtube_transcript_api import YouTubeTranscriptApi\n",
    "from transformers import pipeline\n",
    "transcript=YouTubeTranscriptApi.get_transcript('B3XY0gmfDHg')\n",
    "transcript_ = ''.join([d['text'] for d in transcript])"
   ]
  },
  {
   "cell_type": "code",
   "execution_count": 4,
   "metadata": {},
   "outputs": [
    {
     "name": "stdout",
     "output_type": "stream",
     "text": [
      "looked like Dhoni, I want to be looked like Deepika \n",
      "Padukone, I want to be look like Katrina, I give a  look-alike photo of my favorite hero or cricket \n",
      "star on my facebook so you could keep a photo and  people say hey you look like Deepika and you say \n",
      "thank you so much thank you for what you are not  being identified as you as somebody else then \n",
      "you are feeling so proud in that and then you  say nobody takes me seriously why will they take \n",
      "you seriously when you are not proud about being  yourself understand this respecting yourself is \n",
      "a very important aspect you might have done some  mistakes there are no Saints without the past and \n",
      "there are no sinners without the future mistakes  happen all of us have committed some mistakes \n",
      "forgive yourself first and start respecting  yourself come to that terms and tell yourself you \n",
      "are somebody don't become just a yes man every  various person yes yes yes going with that group \n",
      "yes yes yes going with this group yes yes yes Mary  sense of your individuality that you are somebody \n",
      "and your opinions matter and for that a  deep  thinking has to happen. reflection has to happen. \n",
      "contemplation has to become part of your routine.\n",
      "1190\n"
     ]
    }
   ],
   "source": [
    "print(transcript_)\n",
    "print(len(transcript_))"
   ]
  },
  {
   "cell_type": "markdown",
   "metadata": {},
   "source": [
    "using transformer pipeline"
   ]
  },
  {
   "cell_type": "code",
   "execution_count": 5,
   "metadata": {},
   "outputs": [
    {
     "name": "stderr",
     "output_type": "stream",
     "text": [
      "No model was supplied, defaulted to sshleifer/distilbart-cnn-12-6 and revision a4f8f3e (https://huggingface.co/sshleifer/distilbart-cnn-12-6).\n",
      "Using a pipeline without specifying a model name and revision in production is not recommended.\n",
      "Your max_length is set to 142, but your input_length is only 46. Since this is a summarization task, where outputs shorter than the input are typically wanted, you might consider decreasing max_length manually, e.g. summarizer('...', max_length=23)\n"
     ]
    }
   ],
   "source": [
    "summariser = pipeline('summarization')\n",
    "summary = ''\n",
    "if(len(transcript_)>=1000):\n",
    " for i in range(0, (len(transcript_)//1000)+1):\n",
    "        summary_text = summariser(transcript_[i*1000:(i+1)*1000])[0]['summary_text']\n",
    "        summary = summary + summary_text + ' '\n",
    "else:\n",
    "      summary_text=summariser(transcript_)\n",
    "      summary_text[0]['summary_text']"
   ]
  },
  {
   "cell_type": "code",
   "execution_count": 6,
   "metadata": {},
   "outputs": [
    {
     "name": "stderr",
     "output_type": "stream",
     "text": [
      "No model was supplied, defaulted to sshleifer/distilbart-cnn-12-6 and revision a4f8f3e (https://huggingface.co/sshleifer/distilbart-cnn-12-6).\n",
      "Using a pipeline without specifying a model name and revision in production is not recommended.\n"
     ]
    }
   ],
   "source": [
    "summariser = pipeline('summarization')\n",
    "summary_text=summariser(transcript_)\n",
    "summary=summary_text[0]['summary_text']"
   ]
  },
  {
   "cell_type": "code",
   "execution_count": 7,
   "metadata": {},
   "outputs": [
    {
     "data": {
      "text/plain": [
       "' I give a look-alike photo of my favorite hero or cricket\\xa0star on my facebook so you could keep a photo . People say hey you look like Deepika Padukone, I want to be look like Katrina Katrina, I. looked like Dhoni, I . Want to be looked like Katrina and Dhoni . But when you are not being identified as you as somebody else then you are feeling so proud in that and then you .'"
      ]
     },
     "execution_count": 7,
     "metadata": {},
     "output_type": "execute_result"
    }
   ],
   "source": [
    "summary"
   ]
  },
  {
   "cell_type": "markdown",
   "metadata": {},
   "source": [
    "Audio for the summary"
   ]
  },
  {
   "cell_type": "code",
   "execution_count": 17,
   "metadata": {},
   "outputs": [],
   "source": [
    "import pyttsx3\n",
    "text_speech = pyttsx3.init()\n",
    "current_rate = text_speech.getProperty('rate')\n",
    "new_rate = 150\n",
    "text_speech.setProperty('rate', new_rate)\n",
    "text_speech.say(summary)\n",
    "text_speech.runAndWait()\n"
   ]
  },
  {
   "cell_type": "markdown",
   "metadata": {},
   "source": [
    "evaluation"
   ]
  },
  {
   "cell_type": "code",
   "execution_count": 16,
   "metadata": {},
   "outputs": [
    {
     "name": "stdout",
     "output_type": "stream",
     "text": [
      "rouge1: Score(precision=0.9324324324324325, recall=0.3194444444444444, fmeasure=0.4758620689655172)\n",
      "rouge2: Score(precision=0.8904109589041096, recall=0.3023255813953488, fmeasure=0.45138888888888884)\n",
      "rougeL: Score(precision=0.6891891891891891, recall=0.2361111111111111, fmeasure=0.35172413793103446)\n"
     ]
    }
   ],
   "source": [
    "def evaluation1():\n",
    "    from rouge_score import rouge_scorer\n",
    "    scorer = rouge_scorer.RougeScorer(['rouge1', 'rouge2', 'rougeL'], use_stemmer=True)\n",
    "    scores = scorer.score(transcript_,summary)\n",
    "    for key in scores:\n",
    "        print(f'{key}: {scores[key]}')\n",
    "evaluation1()"
   ]
  },
  {
   "cell_type": "code",
   "execution_count": 15,
   "metadata": {},
   "outputs": [
    {
     "name": "stdout",
     "output_type": "stream",
     "text": [
      "Rouge-Lsum Precision: 0.36283185840707965\n",
      "Rouge-Lsum Recall: 0.8367346938775511\n",
      "Rouge-Lsum F1 Score: 0.5061728352865417\n"
     ]
    }
   ],
   "source": [
    "def evaluation2(): \n",
    "    from rouge import Rouge\n",
    "    rouge=Rouge()\n",
    "    scores=rouge.get_scores(transcript_,summary,avg=True)\n",
    "    print(\"Rouge-Lsum Precision:\", scores[\"rouge-l\"][\"p\"])\n",
    "    print(\"Rouge-Lsum Recall:\", scores[\"rouge-l\"][\"r\"])\n",
    "    print(\"Rouge-Lsum F1 Score:\", scores[\"rouge-l\"][\"f\"])\n",
    "evaluation2()"
   ]
  },
  {
   "cell_type": "markdown",
   "metadata": {},
   "source": [
    "method 2"
   ]
  },
  {
   "cell_type": "code",
   "execution_count": null,
   "metadata": {},
   "outputs": [],
   "source": []
  }
 ],
 "metadata": {
  "kernelspec": {
   "display_name": "project",
   "language": "python",
   "name": "python3"
  },
  "language_info": {
   "codemirror_mode": {
    "name": "ipython",
    "version": 3
   },
   "file_extension": ".py",
   "mimetype": "text/x-python",
   "name": "python",
   "nbconvert_exporter": "python",
   "pygments_lexer": "ipython3",
   "version": "3.9.17"
  },
  "orig_nbformat": 4
 },
 "nbformat": 4,
 "nbformat_minor": 2
}
