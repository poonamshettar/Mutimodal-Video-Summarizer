{
 "cells": [
  {
   "cell_type": "code",
   "execution_count": 8,
   "metadata": {},
   "outputs": [],
   "source": [
    "from youtube_transcript_api import YouTubeTranscriptApi\n",
    "from transformers import pipeline\n",
    "transcript=YouTubeTranscriptApi.get_transcript('3pmC0SRynFY')\n",
    "transcript_ = ' '.join([d['text'] for d in transcript])"
   ]
  },
  {
   "cell_type": "code",
   "execution_count": 9,
   "metadata": {},
   "outputs": [
    {
     "name": "stdout",
     "output_type": "stream",
     "text": [
      "the true friend once there were two friends a squirrel and a puppy they used to live and play together the squirrel was very sporty and always won the game [Music] the puppy used to feel bad and thought that it was of no use one day it started raining heavily the squirrel was in high spirits he started doing antics but suddenly lost his balance and fell in the rain water he called his friend the puppy for help the puppy came to his rescue [Music] the squirrel climbed on its back and reached a safe place he thanked his friend for saving his life moral of the story is always have confidence in yourself everyone is unique in his own way thanks for watching [Music] you\n",
      "673\n"
     ]
    }
   ],
   "source": [
    "print(transcript_)\n",
    "print(len(transcript_))"
   ]
  },
  {
   "cell_type": "markdown",
   "metadata": {},
   "source": [
    "using transformer pipeline"
   ]
  },
  {
   "cell_type": "code",
   "execution_count": 5,
   "metadata": {},
   "outputs": [
    {
     "name": "stderr",
     "output_type": "stream",
     "text": [
      "No model was supplied, defaulted to sshleifer/distilbart-cnn-12-6 and revision a4f8f3e (https://huggingface.co/sshleifer/distilbart-cnn-12-6).\n",
      "Using a pipeline without specifying a model name and revision in production is not recommended.\n",
      "Your max_length is set to 142, but your input_length is only 46. Since this is a summarization task, where outputs shorter than the input are typically wanted, you might consider decreasing max_length manually, e.g. summarizer('...', max_length=23)\n"
     ]
    }
   ],
   "source": [
    "summariser = pipeline('summarization')\n",
    "summary = ''\n",
    "if(len(transcript_)>=1000):\n",
    " for i in range(0, (len(transcript_)//1000)+1):\n",
    "        summary_text = summariser(transcript_[i*1000:(i+1)*1000])[0]['summary_text']\n",
    "        summary = summary + summary_text + ' '\n",
    "else:\n",
    "      summary_text=summariser(transcript_)\n",
    "      summary_text[0]['summary_text']"
   ]
  },
  {
   "cell_type": "code",
   "execution_count": 6,
   "metadata": {},
   "outputs": [
    {
     "name": "stderr",
     "output_type": "stream",
     "text": [
      "No model was supplied, defaulted to sshleifer/distilbart-cnn-12-6 and revision a4f8f3e (https://huggingface.co/sshleifer/distilbart-cnn-12-6).\n",
      "Using a pipeline without specifying a model name and revision in production is not recommended.\n"
     ]
    }
   ],
   "source": [
    "summariser = pipeline('summarization')\n",
    "summary_text=summariser(transcript_)\n",
    "summary=summary_text[0]['summary_text']"
   ]
  },
  {
   "cell_type": "code",
   "execution_count": 7,
   "metadata": {},
   "outputs": [
    {
     "data": {
      "text/plain": [
       "' I give a look-alike photo of my favorite hero or cricket\\xa0star on my facebook so you could keep a photo . People say hey you look like Deepika Padukone, I want to be look like Katrina Katrina, I. looked like Dhoni, I . Want to be looked like Katrina and Dhoni . But when you are not being identified as you as somebody else then you are feeling so proud in that and then you .'"
      ]
     },
     "execution_count": 7,
     "metadata": {},
     "output_type": "execute_result"
    }
   ],
   "source": [
    "summary"
   ]
  },
  {
   "cell_type": "markdown",
   "metadata": {},
   "source": [
    "Audio for the summary"
   ]
  },
  {
   "cell_type": "code",
   "execution_count": 17,
   "metadata": {},
   "outputs": [],
   "source": [
    "import pyttsx3\n",
    "text_speech = pyttsx3.init()\n",
    "current_rate = text_speech.getProperty('rate')\n",
    "new_rate = 150\n",
    "text_speech.setProperty('rate', new_rate)\n",
    "text_speech.say(summary)\n",
    "text_speech.runAndWait()\n"
   ]
  },
  {
   "cell_type": "markdown",
   "metadata": {},
   "source": [
    "evaluation"
   ]
  },
  {
   "cell_type": "code",
   "execution_count": 1,
   "metadata": {},
   "outputs": [
    {
     "ename": "NameError",
     "evalue": "name 'transcript_' is not defined",
     "output_type": "error",
     "traceback": [
      "\u001b[1;31m---------------------------------------------------------------------------\u001b[0m",
      "\u001b[1;31mNameError\u001b[0m                                 Traceback (most recent call last)",
      "\u001b[1;32md:\\Course_project_ml_5th_sem\\Course_project_ml_5th_sem\\1.ipynb Cell 10\u001b[0m line \u001b[0;36m7\n\u001b[0;32m      <a href='vscode-notebook-cell:/d%3A/Course_project_ml_5th_sem/Course_project_ml_5th_sem/1.ipynb#X12sZmlsZQ%3D%3D?line=4'>5</a>\u001b[0m     \u001b[39mfor\u001b[39;00m key \u001b[39min\u001b[39;00m scores:\n\u001b[0;32m      <a href='vscode-notebook-cell:/d%3A/Course_project_ml_5th_sem/Course_project_ml_5th_sem/1.ipynb#X12sZmlsZQ%3D%3D?line=5'>6</a>\u001b[0m         \u001b[39mprint\u001b[39m(\u001b[39mf\u001b[39m\u001b[39m'\u001b[39m\u001b[39m{\u001b[39;00mkey\u001b[39m}\u001b[39;00m\u001b[39m: \u001b[39m\u001b[39m{\u001b[39;00mscores[key]\u001b[39m}\u001b[39;00m\u001b[39m'\u001b[39m)\n\u001b[1;32m----> <a href='vscode-notebook-cell:/d%3A/Course_project_ml_5th_sem/Course_project_ml_5th_sem/1.ipynb#X12sZmlsZQ%3D%3D?line=6'>7</a>\u001b[0m evaluation1()\n",
      "\u001b[1;32md:\\Course_project_ml_5th_sem\\Course_project_ml_5th_sem\\1.ipynb Cell 10\u001b[0m line \u001b[0;36m4\n\u001b[0;32m      <a href='vscode-notebook-cell:/d%3A/Course_project_ml_5th_sem/Course_project_ml_5th_sem/1.ipynb#X12sZmlsZQ%3D%3D?line=1'>2</a>\u001b[0m \u001b[39mfrom\u001b[39;00m \u001b[39mrouge_score\u001b[39;00m \u001b[39mimport\u001b[39;00m rouge_scorer\n\u001b[0;32m      <a href='vscode-notebook-cell:/d%3A/Course_project_ml_5th_sem/Course_project_ml_5th_sem/1.ipynb#X12sZmlsZQ%3D%3D?line=2'>3</a>\u001b[0m scorer \u001b[39m=\u001b[39m rouge_scorer\u001b[39m.\u001b[39mRougeScorer([\u001b[39m'\u001b[39m\u001b[39mrouge1\u001b[39m\u001b[39m'\u001b[39m, \u001b[39m'\u001b[39m\u001b[39mrouge2\u001b[39m\u001b[39m'\u001b[39m, \u001b[39m'\u001b[39m\u001b[39mrougeL\u001b[39m\u001b[39m'\u001b[39m], use_stemmer\u001b[39m=\u001b[39m\u001b[39mTrue\u001b[39;00m)\n\u001b[1;32m----> <a href='vscode-notebook-cell:/d%3A/Course_project_ml_5th_sem/Course_project_ml_5th_sem/1.ipynb#X12sZmlsZQ%3D%3D?line=3'>4</a>\u001b[0m scores \u001b[39m=\u001b[39m scorer\u001b[39m.\u001b[39mscore(transcript_,summary)\n\u001b[0;32m      <a href='vscode-notebook-cell:/d%3A/Course_project_ml_5th_sem/Course_project_ml_5th_sem/1.ipynb#X12sZmlsZQ%3D%3D?line=4'>5</a>\u001b[0m \u001b[39mfor\u001b[39;00m key \u001b[39min\u001b[39;00m scores:\n\u001b[0;32m      <a href='vscode-notebook-cell:/d%3A/Course_project_ml_5th_sem/Course_project_ml_5th_sem/1.ipynb#X12sZmlsZQ%3D%3D?line=5'>6</a>\u001b[0m     \u001b[39mprint\u001b[39m(\u001b[39mf\u001b[39m\u001b[39m'\u001b[39m\u001b[39m{\u001b[39;00mkey\u001b[39m}\u001b[39;00m\u001b[39m: \u001b[39m\u001b[39m{\u001b[39;00mscores[key]\u001b[39m}\u001b[39;00m\u001b[39m'\u001b[39m)\n",
      "\u001b[1;31mNameError\u001b[0m: name 'transcript_' is not defined"
     ]
    }
   ],
   "source": [
    "def evaluation1():\n",
    "    from rouge_score import rouge_scorer\n",
    "    scorer = rouge_scorer.RougeScorer(['rouge1', 'rouge2', 'rougeL'], use_stemmer=True)\n",
    "    scores = scorer.score(transcript_,summary)\n",
    "    for key in scores:\n",
    "        print(f'{key}: {scores[key]}')\n",
    "evaluation1()"
   ]
  },
  {
   "cell_type": "code",
   "execution_count": 15,
   "metadata": {},
   "outputs": [
    {
     "name": "stdout",
     "output_type": "stream",
     "text": [
      "Rouge-Lsum Precision: 0.36283185840707965\n",
      "Rouge-Lsum Recall: 0.8367346938775511\n",
      "Rouge-Lsum F1 Score: 0.5061728352865417\n"
     ]
    }
   ],
   "source": [
    "def evaluation2(): \n",
    "    from rouge import Rouge\n",
    "    rouge=Rouge()\n",
    "    scores=rouge.get_scores(transcript_,summary,avg=True)\n",
    "    print(\"Rouge-Lsum Precision:\", scores[\"rouge-l\"][\"p\"])\n",
    "    print(\"Rouge-Lsum Recall:\", scores[\"rouge-l\"][\"r\"])\n",
    "    print(\"Rouge-Lsum F1 Score:\", scores[\"rouge-l\"][\"f\"])\n",
    "evaluation2()"
   ]
  },
  {
   "cell_type": "markdown",
   "metadata": {},
   "source": [
    "method 2"
   ]
  }
 ],
 "metadata": {
  "kernelspec": {
   "display_name": "project",
   "language": "python",
   "name": "python3"
  },
  "language_info": {
   "codemirror_mode": {
    "name": "ipython",
    "version": 3
   },
   "file_extension": ".py",
   "mimetype": "text/x-python",
   "name": "python",
   "nbconvert_exporter": "python",
   "pygments_lexer": "ipython3",
   "version": "3.9.17"
  },
  "orig_nbformat": 4
 },
 "nbformat": 4,
 "nbformat_minor": 2
}
